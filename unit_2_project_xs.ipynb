{
 "cells": [
  {
   "cell_type": "code",
   "execution_count": 30,
   "id": "326b1d40-f5c2-41a9-b9d2-ea908a0f6207",
   "metadata": {
    "collapsed": true,
    "jupyter": {
     "outputs_hidden": true
    },
    "tags": []
   },
   "outputs": [
    {
     "name": "stdout",
     "output_type": "stream",
     "text": [
      "Collecting pdpbox\n",
      "  Downloading PDPbox-0.2.1.tar.gz (34.0 MB)\n",
      "\u001b[K     |████████████████████████████████| 34.0 MB 21.5 MB/s eta 0:00:01     |███████████████████████         | 24.4 MB 20.8 MB/s eta 0:00:01     |██████████████████████████▍     | 28.1 MB 20.8 MB/s eta 0:00:01     |██████████████████████████████  | 31.9 MB 21.5 MB/s eta 0:00:01\n",
      "\u001b[?25hRequirement already satisfied: pandas in /Users/xsong/anaconda3/lib/python3.8/site-packages (from pdpbox) (1.2.4)\n",
      "Requirement already satisfied: numpy in /Users/xsong/anaconda3/lib/python3.8/site-packages (from pdpbox) (1.20.1)\n",
      "Requirement already satisfied: scipy in /Users/xsong/anaconda3/lib/python3.8/site-packages (from pdpbox) (1.6.2)\n",
      "Requirement already satisfied: joblib in /Users/xsong/anaconda3/lib/python3.8/site-packages (from pdpbox) (1.0.1)\n",
      "Requirement already satisfied: psutil in /Users/xsong/anaconda3/lib/python3.8/site-packages (from pdpbox) (5.8.0)\n",
      "Collecting matplotlib==3.1.1\n",
      "  Downloading matplotlib-3.1.1.tar.gz (37.8 MB)\n",
      "\u001b[K     |████████████████████████████████| 37.8 MB 21.2 MB/s eta 0:00:01     |████████████████████████████▎   | 33.4 MB 21.2 MB/s eta 0:00:01\n",
      "\u001b[?25hCollecting sklearn\n",
      "  Downloading sklearn-0.0.tar.gz (1.1 kB)\n",
      "Requirement already satisfied: cycler>=0.10 in /Users/xsong/anaconda3/lib/python3.8/site-packages (from matplotlib==3.1.1->pdpbox) (0.10.0)\n",
      "Requirement already satisfied: kiwisolver>=1.0.1 in /Users/xsong/anaconda3/lib/python3.8/site-packages (from matplotlib==3.1.1->pdpbox) (1.3.1)\n",
      "Requirement already satisfied: pyparsing!=2.0.4,!=2.1.2,!=2.1.6,>=2.0.1 in /Users/xsong/anaconda3/lib/python3.8/site-packages (from matplotlib==3.1.1->pdpbox) (2.4.7)\n",
      "Requirement already satisfied: python-dateutil>=2.1 in /Users/xsong/anaconda3/lib/python3.8/site-packages (from matplotlib==3.1.1->pdpbox) (2.8.1)\n",
      "Requirement already satisfied: six in /Users/xsong/anaconda3/lib/python3.8/site-packages (from cycler>=0.10->matplotlib==3.1.1->pdpbox) (1.15.0)\n",
      "Requirement already satisfied: pytz>=2017.3 in /Users/xsong/anaconda3/lib/python3.8/site-packages (from pandas->pdpbox) (2021.1)\n",
      "Requirement already satisfied: scikit-learn in /Users/xsong/anaconda3/lib/python3.8/site-packages (from sklearn->pdpbox) (0.24.1)\n",
      "Requirement already satisfied: threadpoolctl>=2.0.0 in /Users/xsong/anaconda3/lib/python3.8/site-packages (from scikit-learn->sklearn->pdpbox) (2.1.0)\n",
      "Building wheels for collected packages: pdpbox, matplotlib, sklearn\n",
      "  Building wheel for pdpbox (setup.py) ... \u001b[?25ldone\n",
      "\u001b[?25h  Created wheel for pdpbox: filename=PDPbox-0.2.1-py3-none-any.whl size=35758225 sha256=fdf30b59c201c7c280311f601ef0c0894cb1fa3518c86280fdde49aa63a8f34e\n",
      "  Stored in directory: /Users/xsong/Library/Caches/pip/wheels/35/fb/ef/a08dd2a1611435285fa3f9d9104bf554f10c2eb7293b526ccb\n",
      "  Building wheel for matplotlib (setup.py) ... \u001b[?25ldone\n",
      "\u001b[?25h  Created wheel for matplotlib: filename=matplotlib-3.1.1-cp38-cp38-macosx_10_9_x86_64.whl size=8431241 sha256=10357cca044d41ed0cea2faa86f2d3e92e7d8e3a6fdca1a8fb5e2a5578c89cb5\n",
      "  Stored in directory: /Users/xsong/Library/Caches/pip/wheels/85/86/f1/054e7477b5e68f3c4a1258d12ae1c2205d6889283ce631dfe5\n",
      "  Building wheel for sklearn (setup.py) ... \u001b[?25ldone\n",
      "\u001b[?25h  Created wheel for sklearn: filename=sklearn-0.0-py2.py3-none-any.whl size=1316 sha256=1b814073712dbc1aee13960687e577c3d85b07e5aa4f0e6eb783978f18e14c99\n",
      "  Stored in directory: /Users/xsong/Library/Caches/pip/wheels/22/0b/40/fd3f795caaa1fb4c6cb738bc1f56100be1e57da95849bfc897\n",
      "Successfully built pdpbox matplotlib sklearn\n",
      "Installing collected packages: sklearn, matplotlib, pdpbox\n",
      "  Attempting uninstall: matplotlib\n",
      "    Found existing installation: matplotlib 3.3.4\n",
      "    Uninstalling matplotlib-3.3.4:\n",
      "      Successfully uninstalled matplotlib-3.3.4\n",
      "\u001b[31mERROR: pip's dependency resolver does not currently take into account all the packages that are installed. This behaviour is the source of the following dependency conflicts.\n",
      "pandas-profiling 2.13.0 requires matplotlib>=3.2.0, but you have matplotlib 3.1.1 which is incompatible.\u001b[0m\n",
      "Successfully installed matplotlib-3.1.1 pdpbox-0.2.1 sklearn-0.0\n",
      "Collecting shap\n",
      "  Downloading shap-0.39.0.tar.gz (356 kB)\n",
      "\u001b[K     |████████████████████████████████| 356 kB 3.5 MB/s eta 0:00:01\n",
      "\u001b[?25hRequirement already satisfied: numpy in /Users/xsong/anaconda3/lib/python3.8/site-packages (from shap) (1.20.1)\n",
      "Requirement already satisfied: scipy in /Users/xsong/anaconda3/lib/python3.8/site-packages (from shap) (1.6.2)\n",
      "Requirement already satisfied: scikit-learn in /Users/xsong/anaconda3/lib/python3.8/site-packages (from shap) (0.24.1)\n",
      "Requirement already satisfied: pandas in /Users/xsong/anaconda3/lib/python3.8/site-packages (from shap) (1.2.4)\n",
      "Requirement already satisfied: tqdm>4.25.0 in /Users/xsong/anaconda3/lib/python3.8/site-packages (from shap) (4.59.0)\n",
      "Collecting slicer==0.0.7\n",
      "  Downloading slicer-0.0.7-py3-none-any.whl (14 kB)\n",
      "Requirement already satisfied: numba in /Users/xsong/anaconda3/lib/python3.8/site-packages (from shap) (0.53.1)\n",
      "Requirement already satisfied: cloudpickle in /Users/xsong/anaconda3/lib/python3.8/site-packages (from shap) (1.6.0)\n",
      "Requirement already satisfied: setuptools in /Users/xsong/anaconda3/lib/python3.8/site-packages (from numba->shap) (52.0.0.post20210125)\n",
      "Requirement already satisfied: llvmlite<0.37,>=0.36.0rc1 in /Users/xsong/anaconda3/lib/python3.8/site-packages (from numba->shap) (0.36.0)\n",
      "Requirement already satisfied: python-dateutil>=2.7.3 in /Users/xsong/anaconda3/lib/python3.8/site-packages (from pandas->shap) (2.8.1)\n",
      "Requirement already satisfied: pytz>=2017.3 in /Users/xsong/anaconda3/lib/python3.8/site-packages (from pandas->shap) (2021.1)\n",
      "Requirement already satisfied: six>=1.5 in /Users/xsong/anaconda3/lib/python3.8/site-packages (from python-dateutil>=2.7.3->pandas->shap) (1.15.0)\n",
      "Requirement already satisfied: joblib>=0.11 in /Users/xsong/anaconda3/lib/python3.8/site-packages (from scikit-learn->shap) (1.0.1)\n",
      "Requirement already satisfied: threadpoolctl>=2.0.0 in /Users/xsong/anaconda3/lib/python3.8/site-packages (from scikit-learn->shap) (2.1.0)\n",
      "Building wheels for collected packages: shap\n",
      "  Building wheel for shap (setup.py) ... \u001b[?25ldone\n",
      "\u001b[?25h  Created wheel for shap: filename=shap-0.39.0-cp38-cp38-macosx_10_9_x86_64.whl size=413014 sha256=9a807c766489064a37af57e0d2177cef5158606bb61d53a5c6ac598ca74a4533\n",
      "  Stored in directory: /Users/xsong/Library/Caches/pip/wheels/3d/c9/06/734ed80d6d61fad331974bf62017b4ea6b33488082b9f5e67e\n",
      "Successfully built shap\n",
      "Installing collected packages: slicer, shap\n",
      "Successfully installed shap-0.39.0 slicer-0.0.7\n"
     ]
    }
   ],
   "source": [
    "!pip install category_encoders==2.*\n",
    "!pip install pdpbox\n",
    "!pip install shap"
   ]
  },
  {
   "cell_type": "code",
   "execution_count": 104,
   "id": "c26dee5f-d0ad-4c71-a2e2-69832f937fc7",
   "metadata": {},
   "outputs": [],
   "source": [
    "import pandas as pd\n",
    "import numpy as np\n",
    "import matplotlib.pyplot as plt\n",
    "import pandas_profiling\n",
    "import seaborn as sns \n",
    "import matplotlib.pyplot as plt \n",
    "from sklearn.linear_model import LogisticRegression\n",
    "from sklearn.ensemble import RandomForestClassifier\n",
    "from sklearn.metrics import accuracy_score, roc_auc_score, plot_confusion_matrix, classification_report\n",
    "from sklearn.model_selection import train_test_split\n",
    "from sklearn.pipeline import make_pipeline\n",
    "from category_encoders import OrdinalEncoder,OneHotEncoder\n",
    "from sklearn.impute import SimpleImputer\n",
    "from sklearn.preprocessing import StandardScaler\n",
    "from sklearn.utils import resample\n",
    "#from xgboost import XGBClassifier\n",
    "from sklearn.model_selection import cross_val_score, validation_curve # k-fold CV\n",
    "from sklearn.model_selection import RandomizedSearchCV # Hyperparameter tuning\n",
    "from scipy.stats import chi2_contingency"
   ]
  },
  {
   "cell_type": "code",
   "execution_count": 107,
   "id": "c625048a-07c6-4c29-8e25-3291bd627022",
   "metadata": {
    "tags": []
   },
   "outputs": [],
   "source": [
    "# link to dataset Kaggle page: https://www.kaggle.com/arashnic/ctr-in-advertisement?select=Ad_click_prediction_train+%281%29.csv\n",
    "\n",
    "# read in dataset\n",
    "df = pd.read_csv('Ad_click_prediction_train.csv')"
   ]
  },
  {
   "cell_type": "markdown",
   "id": "6f04ba9f-d43e-498b-bb3a-024efb0bd53a",
   "metadata": {},
   "source": [
    "# EDA"
   ]
  },
  {
   "cell_type": "code",
   "execution_count": 110,
   "id": "cf92cc20-5fe8-4628-89f3-24c36b14a3fd",
   "metadata": {},
   "outputs": [
    {
     "data": {
      "text/html": [
       "<div>\n",
       "<style scoped>\n",
       "    .dataframe tbody tr th:only-of-type {\n",
       "        vertical-align: middle;\n",
       "    }\n",
       "\n",
       "    .dataframe tbody tr th {\n",
       "        vertical-align: top;\n",
       "    }\n",
       "\n",
       "    .dataframe thead th {\n",
       "        text-align: right;\n",
       "    }\n",
       "</style>\n",
       "<table border=\"1\" class=\"dataframe\">\n",
       "  <thead>\n",
       "    <tr style=\"text-align: right;\">\n",
       "      <th></th>\n",
       "      <th>product</th>\n",
       "      <th>product_category_1</th>\n",
       "      <th>product_category_2</th>\n",
       "      <th>user_group_id</th>\n",
       "      <th>gender</th>\n",
       "      <th>age_level</th>\n",
       "      <th>user_depth</th>\n",
       "      <th>city_development_index</th>\n",
       "      <th>var_1</th>\n",
       "      <th>is_click</th>\n",
       "    </tr>\n",
       "    <tr>\n",
       "      <th>session_id</th>\n",
       "      <th></th>\n",
       "      <th></th>\n",
       "      <th></th>\n",
       "      <th></th>\n",
       "      <th></th>\n",
       "      <th></th>\n",
       "      <th></th>\n",
       "      <th></th>\n",
       "      <th></th>\n",
       "      <th></th>\n",
       "    </tr>\n",
       "  </thead>\n",
       "  <tbody>\n",
       "    <tr>\n",
       "      <th>140690</th>\n",
       "      <td>C</td>\n",
       "      <td>4</td>\n",
       "      <td>NaN</td>\n",
       "      <td>10.0</td>\n",
       "      <td>Female</td>\n",
       "      <td>4.0</td>\n",
       "      <td>3.0</td>\n",
       "      <td>3.0</td>\n",
       "      <td>0</td>\n",
       "      <td>0</td>\n",
       "    </tr>\n",
       "    <tr>\n",
       "      <th>333291</th>\n",
       "      <td>C</td>\n",
       "      <td>5</td>\n",
       "      <td>NaN</td>\n",
       "      <td>8.0</td>\n",
       "      <td>Female</td>\n",
       "      <td>2.0</td>\n",
       "      <td>2.0</td>\n",
       "      <td>NaN</td>\n",
       "      <td>0</td>\n",
       "      <td>0</td>\n",
       "    </tr>\n",
       "    <tr>\n",
       "      <th>129781</th>\n",
       "      <td>C</td>\n",
       "      <td>4</td>\n",
       "      <td>NaN</td>\n",
       "      <td>8.0</td>\n",
       "      <td>Female</td>\n",
       "      <td>2.0</td>\n",
       "      <td>2.0</td>\n",
       "      <td>NaN</td>\n",
       "      <td>0</td>\n",
       "      <td>0</td>\n",
       "    </tr>\n",
       "    <tr>\n",
       "      <th>464848</th>\n",
       "      <td>I</td>\n",
       "      <td>3</td>\n",
       "      <td>NaN</td>\n",
       "      <td>3.0</td>\n",
       "      <td>Male</td>\n",
       "      <td>3.0</td>\n",
       "      <td>3.0</td>\n",
       "      <td>2.0</td>\n",
       "      <td>1</td>\n",
       "      <td>0</td>\n",
       "    </tr>\n",
       "    <tr>\n",
       "      <th>90569</th>\n",
       "      <td>C</td>\n",
       "      <td>3</td>\n",
       "      <td>NaN</td>\n",
       "      <td>2.0</td>\n",
       "      <td>Male</td>\n",
       "      <td>2.0</td>\n",
       "      <td>3.0</td>\n",
       "      <td>2.0</td>\n",
       "      <td>1</td>\n",
       "      <td>0</td>\n",
       "    </tr>\n",
       "  </tbody>\n",
       "</table>\n",
       "</div>"
      ],
      "text/plain": [
       "           product  product_category_1  product_category_2  user_group_id  \\\n",
       "session_id                                                                  \n",
       "140690           C                   4                 NaN           10.0   \n",
       "333291           C                   5                 NaN            8.0   \n",
       "129781           C                   4                 NaN            8.0   \n",
       "464848           I                   3                 NaN            3.0   \n",
       "90569            C                   3                 NaN            2.0   \n",
       "\n",
       "            gender  age_level  user_depth  city_development_index  var_1  \\\n",
       "session_id                                                                 \n",
       "140690      Female        4.0         3.0                     3.0      0   \n",
       "333291      Female        2.0         2.0                     NaN      0   \n",
       "129781      Female        2.0         2.0                     NaN      0   \n",
       "464848        Male        3.0         3.0                     2.0      1   \n",
       "90569         Male        2.0         3.0                     2.0      1   \n",
       "\n",
       "            is_click  \n",
       "session_id            \n",
       "140690             0  \n",
       "333291             0  \n",
       "129781             0  \n",
       "464848             0  \n",
       "90569              0  "
      ]
     },
     "execution_count": 110,
     "metadata": {},
     "output_type": "execute_result"
    }
   ],
   "source": [
    "# target variable: is_click\n",
    "df.head()"
   ]
  },
  {
   "cell_type": "code",
   "execution_count": 11,
   "id": "01abe6d7-844e-43fc-a9f9-a439785f62fe",
   "metadata": {},
   "outputs": [
    {
     "name": "stdout",
     "output_type": "stream",
     "text": [
      "<class 'pandas.core.frame.DataFrame'>\n",
      "RangeIndex: 463291 entries, 0 to 463290\n",
      "Data columns (total 15 columns):\n",
      " #   Column                  Non-Null Count   Dtype  \n",
      "---  ------                  --------------   -----  \n",
      " 0   session_id              463291 non-null  int64  \n",
      " 1   DateTime                463291 non-null  object \n",
      " 2   user_id                 463291 non-null  int64  \n",
      " 3   product                 463291 non-null  object \n",
      " 4   campaign_id             463291 non-null  int64  \n",
      " 5   webpage_id              463291 non-null  int64  \n",
      " 6   product_category_1      463291 non-null  int64  \n",
      " 7   product_category_2      97437 non-null   float64\n",
      " 8   user_group_id           445048 non-null  float64\n",
      " 9   gender                  445048 non-null  object \n",
      " 10  age_level               445048 non-null  float64\n",
      " 11  user_depth              445048 non-null  float64\n",
      " 12  city_development_index  338162 non-null  float64\n",
      " 13  var_1                   463291 non-null  int64  \n",
      " 14  is_click                463291 non-null  int64  \n",
      "dtypes: float64(5), int64(7), object(3)\n",
      "memory usage: 53.0+ MB\n"
     ]
    }
   ],
   "source": [
    "df.info()"
   ]
  },
  {
   "cell_type": "code",
   "execution_count": 111,
   "id": "ae95e935-c802-462a-b5d6-f793460cbb1c",
   "metadata": {},
   "outputs": [
    {
     "data": {
      "text/plain": [
       "(463291, 10)"
      ]
     },
     "execution_count": 111,
     "metadata": {},
     "output_type": "execute_result"
    }
   ],
   "source": [
    "df.shape"
   ]
  },
  {
   "cell_type": "code",
   "execution_count": null,
   "id": "4535d0c0-a6e1-450b-8bc6-cac49826924a",
   "metadata": {},
   "outputs": [],
   "source": [
    "# check for duplicated rows\n",
    "df.duplicated().sum()"
   ]
  },
  {
   "cell_type": "code",
   "execution_count": 10,
   "id": "438b208c-8c72-43bc-85c8-95fd5e9a02dd",
   "metadata": {
    "tags": []
   },
   "outputs": [
    {
     "data": {
      "image/png": "[encoded data removed]",
      "text/plain": [
       "<Figure size 1296x864 with 12 Axes>"
      ]
     },
     "metadata": {
      "needs_background": "light"
     },
     "output_type": "display_data"
    }
   ],
   "source": [
    "# histograms for non-object variables\n",
    "fig = plt.figure(figsize = (18,12))\n",
    "ax = fig.gca()\n",
    "df.hist(ax=ax)\n",
    "plt.show()"
   ]
  },
  {
   "cell_type": "code",
   "execution_count": 105,
   "id": "16356f1e-841e-495a-8008-6927bae7c9ac",
   "metadata": {},
   "outputs": [
    {
     "name": "stdout",
     "output_type": "stream",
     "text": [
      "session_id                445048\n",
      "DateTime                    8604\n",
      "user_id                   143837\n",
      "product                       10\n",
      "campaign_id                   10\n",
      "webpage_id                     9\n",
      "product_category_1             5\n",
      "product_category_2            29\n",
      "user_group_id                 13\n",
      "gender                         2\n",
      "age_level                      7\n",
      "user_depth                     3\n",
      "city_development_index         4\n",
      "var_1                          2\n",
      "is_click                       2\n",
      "dtype: int64\n"
     ]
    }
   ],
   "source": [
    "# number of unique values in all variables\n",
    "list_ = []\n",
    "for col in df:\n",
    "    list_.append(df[col].nunique())\n",
    "\n",
    "uniqueVal = pd.Series(data=list_, index= [df.columns])\n",
    "print(uniqueVal)"
   ]
  },
  {
   "cell_type": "code",
   "execution_count": 108,
   "id": "41a4e271-bc4b-4703-91bc-bc05cfab680f",
   "metadata": {},
   "outputs": [],
   "source": [
    "# drop HCC\n",
    "df.drop(columns= ['DateTime','user_id'], inplace= True)\n",
    "# set session_id as index \n",
    "df.set_index('session_id', inplace=True)"
   ]
  },
  {
   "cell_type": "code",
   "execution_count": 109,
   "id": "4cd730c3-2493-4757-9c60-584c755ca40c",
   "metadata": {},
   "outputs": [],
   "source": [
    "# drop 'webpage_id' and 'campaign_id'\n",
    "df.drop(columns= ['webpage_id','campaign_id'], inplace= True)"
   ]
  },
  {
   "cell_type": "code",
   "execution_count": 77,
   "id": "e415d44b-ce48-4717-aeb9-4582aca3ea7b",
   "metadata": {},
   "outputs": [
    {
     "data": {
      "text/plain": [
       "session_id                     0\n",
       "DateTime                       0\n",
       "user_id                        0\n",
       "product                        0\n",
       "campaign_id                    0\n",
       "webpage_id                     0\n",
       "product_category_1             0\n",
       "product_category_2        365854\n",
       "user_group_id              18243\n",
       "gender                     18243\n",
       "age_level                  18243\n",
       "user_depth                 18243\n",
       "city_development_index    125129\n",
       "var_1                          0\n",
       "is_click                       0\n",
       "dtype: int64"
      ]
     },
     "execution_count": 77,
     "metadata": {},
     "output_type": "execute_result"
    }
   ],
   "source": [
    "# a lot of missing values in product_category_2\n",
    "# there appears to be same number of missing values in the user related features\n",
    "df.isnull().sum()"
   ]
  },
  {
   "cell_type": "code",
   "execution_count": 23,
   "id": "db2cc165-03e1-4ef8-b58b-9145492ff855",
   "metadata": {},
   "outputs": [
    {
     "data": {
      "text/plain": [
       "product                        0\n",
       "campaign_id                    0\n",
       "webpage_id                     0\n",
       "product_category_1             0\n",
       "product_category_2        351379\n",
       "user_group_id                  0\n",
       "gender                         0\n",
       "age_level                      0\n",
       "user_depth                     0\n",
       "city_development_index    106886\n",
       "var_1                          0\n",
       "is_click                       0\n",
       "dtype: int64"
      ]
     },
     "execution_count": 23,
     "metadata": {},
     "output_type": "execute_result"
    }
   ],
   "source": [
    "# drop missing values in user features since they account for a small portion of the dataset\n",
    "df.dropna(subset= ['gender'], inplace= True)\n",
    "df.isnull().sum()"
   ]
  },
  {
   "cell_type": "code",
   "execution_count": 24,
   "id": "b3a752b7-9b40-4558-88fa-2849c185acec",
   "metadata": {
    "tags": []
   },
   "outputs": [
    {
     "data": {
      "text/plain": [
       "0    414991\n",
       "1     30057\n",
       "Name: is_click, dtype: int64"
      ]
     },
     "execution_count": 24,
     "metadata": {},
     "output_type": "execute_result"
    }
   ],
   "source": [
    "# highly imbalanced target variable\n",
    "df['is_click'].value_counts()"
   ]
  },
  {
   "cell_type": "code",
   "execution_count": 173,
   "id": "a4197c3c-5912-44bd-9d5a-993cccf74c45",
   "metadata": {
    "tags": []
   },
   "outputs": [
    {
     "data": {
      "image/png": "[encoded data removed]",
      "text/plain": [
       "<Figure size 864x720 with 2 Axes>"
      ]
     },
     "metadata": {
      "needs_background": "light"
     },
     "output_type": "display_data"
    }
   ],
   "source": [
    "# lower triangle heatmap\n",
    "# high corr pairs: webpage_id & campaign_id, age_level & user_group_id\n",
    "corr = df.corr()\n",
    "mask = np.triu(corr)\n",
    "plt.figure(figsize=(12,10))\n",
    "ax = sns.heatmap(corr, annot= True, mask=mask, cmap= sns.color_palette(\"viridis\"))"
   ]
  },
  {
   "cell_type": "markdown",
   "id": "44e33e8c-c3e3-4465-a7a0-78e50588a70c",
   "metadata": {},
   "source": [
    "# Balance Target Categories"
   ]
  },
  {
   "cell_type": "code",
   "execution_count": 25,
   "id": "7b421179-c973-4bae-bd1f-6a00536a8e1d",
   "metadata": {},
   "outputs": [
    {
     "data": {
      "text/plain": [
       "0    332001\n",
       "Name: is_click, dtype: int64"
      ]
     },
     "execution_count": 25,
     "metadata": {},
     "output_type": "execute_result"
    }
   ],
   "source": [
    "# split train val sets\n",
    "train, val = train_test_split(df, test_size=0.2, random_state=42)\n",
    "\n",
    "# divide training set into minority and majority sets\n",
    "df_minority = train[train['is_click']==1]\n",
    "df_majority = train[train['is_click']==0]\n",
    "df_majority['is_click'].value_counts()"
   ]
  },
  {
   "cell_type": "code",
   "execution_count": 26,
   "id": "9b6d7b40-c22e-4e48-9886-4623a2648f7a",
   "metadata": {},
   "outputs": [
    {
     "data": {
      "text/plain": [
       "0    332001\n",
       "1    332001\n",
       "Name: is_click, dtype: int64"
      ]
     },
     "execution_count": 26,
     "metadata": {},
     "output_type": "execute_result"
    }
   ],
   "source": [
    "# up-sample minority set\n",
    "df_minority_upsampled = resample(\n",
    "    df_minority,\n",
    "    replace=True,\n",
    "    n_samples=332001,\n",
    "    random_state=42\n",
    ")\n",
    "\n",
    "df_upsampled = pd.concat([df_minority_upsampled, df_majority])\n",
    "df_upsampled['is_click'].value_counts()"
   ]
  },
  {
   "cell_type": "markdown",
   "id": "346f6bc1-446c-4888-947c-7bd7dd76912c",
   "metadata": {},
   "source": [
    "# Modeling"
   ]
  },
  {
   "cell_type": "code",
   "execution_count": 27,
   "id": "8b6a0bf8-28df-4780-a944-e2d30d7f13f7",
   "metadata": {},
   "outputs": [],
   "source": [
    "# create feature matrix and target label\n",
    "target = 'is_click'\n",
    "X_train = df_upsampled.drop(columns= target)\n",
    "y_train = df_upsampled['is_click']\n",
    "X_val = val.drop(columns= target)\n",
    "y_val = val['is_click']"
   ]
  },
  {
   "cell_type": "code",
   "execution_count": 28,
   "id": "7655e298-3a13-4310-81a3-335f8010acb8",
   "metadata": {},
   "outputs": [
    {
     "name": "stdout",
     "output_type": "stream",
     "text": [
      "baseline accuracy  0.5\n"
     ]
    }
   ],
   "source": [
    "# baseline accuracy\n",
    "print('baseline accuracy ',df_upsampled[target].value_counts(normalize=True).max())"
   ]
  },
  {
   "cell_type": "code",
   "execution_count": 72,
   "id": "6ab8ee07-6121-4841-8b9e-3ca0c3475569",
   "metadata": {},
   "outputs": [
    {
     "data": {
      "text/plain": [
       "Pipeline(steps=[('onehotencoder',\n",
       "                 OneHotEncoder(cols=['product', 'gender'], use_cat_names=True)),\n",
       "                ('simpleimputer', SimpleImputer()),\n",
       "                ('standardscaler', StandardScaler()),\n",
       "                ('logisticregression', LogisticRegression())])"
      ]
     },
     "execution_count": 72,
     "metadata": {},
     "output_type": "execute_result"
    }
   ],
   "source": [
    "# logistic regression model\n",
    "from sklearn.linear_model import LogisticRegression\n",
    "model_lr = make_pipeline(\n",
    "    OneHotEncoder(use_cat_names=True),    # Encode categorical values\n",
    "    SimpleImputer(strategy='mean'),       # Fill Nan values with column mean \n",
    "    StandardScaler(),                     # Re-scale all features (mean = 0, std =1)\n",
    "    LogisticRegression()\n",
    ")\n",
    "\n",
    "model_lr.fit(X_train, y_train)"
   ]
  },
  {
   "cell_type": "code",
   "execution_count": 73,
   "id": "a47e724a-691a-441c-a92b-972d62069fc3",
   "metadata": {
    "tags": []
   },
   "outputs": [
    {
     "name": "stdout",
     "output_type": "stream",
     "text": [
      "training accuracy  0.5364712756889286\n",
      "testing accuracy  0.5081563869228176\n",
      "              precision    recall  f1-score   support\n",
      "\n",
      "           0       0.94      0.50      0.66     82990\n",
      "           1       0.08      0.57      0.14      6020\n",
      "\n",
      "    accuracy                           0.51     89010\n",
      "   macro avg       0.51      0.54      0.40     89010\n",
      "weighted avg       0.88      0.51      0.62     89010\n",
      "\n"
     ]
    }
   ],
   "source": [
    "# logistic regression model performance\n",
    "print('training accuracy ',model_lr.score(X_train,y_train))\n",
    "print('testing accuracy ', model_lr.score(X_val,y_val))\n",
    "print(classification_report(y_val, model_lr.predict(X_val)))"
   ]
  },
  {
   "cell_type": "code",
   "execution_count": 112,
   "id": "077f64c3-3fe3-415f-aebc-a0c10b26570d",
   "metadata": {},
   "outputs": [
    {
     "data": {
      "text/plain": [
       "<sklearn.metrics._plot.confusion_matrix.ConfusionMatrixDisplay at 0x13538c7c0>"
      ]
     },
     "execution_count": 112,
     "metadata": {},
     "output_type": "execute_result"
    },
    {
     "data": {
      "image/png": "[encoded data removed]",
      "text/plain": [
       "<Figure size 432x288 with 2 Axes>"
      ]
     },
     "metadata": {
      "needs_background": "light"
     },
     "output_type": "display_data"
    }
   ],
   "source": [
    "# plot confusion matrix for linear model\n",
    "plot_confusion_matrix(model_lr, X_val, y_val, cmap=plt.cm.Blues)"
   ]
  },
  {
   "cell_type": "code",
   "execution_count": 102,
   "id": "1a170f80-e5a7-4012-abde-3a6dc905f2b6",
   "metadata": {
    "tags": []
   },
   "outputs": [
    {
     "data": {
      "text/plain": [
       "Pipeline(steps=[('ordinalencoder',\n",
       "                 OrdinalEncoder(cols=['product'],\n",
       "                                mapping=[{'col': 'product',\n",
       "                                          'data_type': dtype('O'),\n",
       "                                          'mapping': C       1\n",
       "H       2\n",
       "D       3\n",
       "F       4\n",
       "I       5\n",
       "B       6\n",
       "J       7\n",
       "E       8\n",
       "G       9\n",
       "A      10\n",
       "NaN    -2\n",
       "dtype: int64}])),\n",
       "                ('simpleimputer', SimpleImputer()),\n",
       "                ('randomforestclassifier',\n",
       "                 RandomForestClassifier(max_depth=19, max_samples=0.6,\n",
       "                                        n_jobs=-1, random_state=42))])"
      ]
     },
     "execution_count": 102,
     "metadata": {},
     "output_type": "execute_result"
    }
   ],
   "source": [
    "# random forest model \n",
    "model_rf = make_pipeline(\n",
    "    OrdinalEncoder(),\n",
    "    SimpleImputer(strategy= 'mean'),\n",
    "    RandomForestClassifier(random_state = 42, n_jobs = -1, n_estimators= 100, max_depth= 19, max_samples= .6)\n",
    ")\n",
    "\n",
    "model_rf.fit(X_train_, y_train)"
   ]
  },
  {
   "cell_type": "code",
   "execution_count": 106,
   "id": "570dcb23-a2f8-43a9-a023-8b89402f8e41",
   "metadata": {
    "collapsed": true,
    "jupyter": {
     "outputs_hidden": true
    },
    "tags": []
   },
   "outputs": [
    {
     "name": "stdout",
     "output_type": "stream",
     "text": [
      "training accuracy  0.5506715341218852\n",
      "testing accuracy  0.5204583754634311\n",
      "              precision    recall  f1-score   support\n",
      "\n",
      "           0       0.95      0.52      0.67     82990\n",
      "           1       0.08      0.59      0.14      6020\n",
      "\n",
      "    accuracy                           0.52     89010\n",
      "   macro avg       0.51      0.55      0.40     89010\n",
      "weighted avg       0.89      0.52      0.63     89010\n",
      "\n"
     ]
    }
   ],
   "source": [
    "# random forest model performance\n",
    "print('training accuracy ',model_rf.score(X_train_,y_train))\n",
    "print('testing accuracy ', model_rf.score(X_val_,y_val))\n",
    "print(classification_report(y_val, model_rf.predict(X_val_)))"
   ]
  },
  {
   "cell_type": "code",
   "execution_count": null,
   "id": "544057eb-fe8f-474e-85ec-ad57c6b3cb40",
   "metadata": {
    "tags": []
   },
   "outputs": [],
   "source": [
    "# tuning hyperparameters for random forest model\n",
    "clf = make_pipeline(OrdinalEncoder(),\n",
    "                   SimpleImputer(),\n",
    "                   RandomForestClassifier(random_state=42, n_jobs = -1))\n",
    "\n",
    "param_grid = {'simpleimputer__strategy':['median','mean'],\n",
    "             'randomforestclassifier__max_depth':range(5,20,2), \n",
    "             'randomforestclassifier__n_estimators':range(50,150,50),\n",
    "             'randomforestclassifier__max_samples':np.arange(0.2, 1, 0.2)\n",
    "              } \n",
    "\n",
    "model_rfrs = RandomizedSearchCV(clf, \n",
    "                               param_distributions = param_grid,\n",
    "                               n_iter = 25,\n",
    "                               cv = 5,\n",
    "                               n_jobs = -1,\n",
    "                               verbose = 10)\n",
    "model_rfrs.fit(X_train,y_train)"
   ]
  },
  {
   "cell_type": "code",
   "execution_count": null,
   "id": "9933e29d-c2b0-4121-b88b-37675f67c844",
   "metadata": {},
   "outputs": [],
   "source": [
    "# retrieve best hyperparameters \n",
    "best_score = model_rfrs.best_score_\n",
    "best_params = model_rfrs.best_params_\n",
    "print(best_score, best_params)\n",
    "# feed back into model using cell from above"
   ]
  },
  {
   "cell_type": "code",
   "execution_count": null,
   "id": "f9a873e1-b02a-41ce-b8bc-687efd0b1d7f",
   "metadata": {},
   "outputs": [],
   "source": [
    "# XGBoost model\n",
    "model_xgb = make_pipeline(\n",
    "    OrdinalEncoder(),\n",
    "    SimpleImputer(strategy= 'mean'),\n",
    "    XGBClassifier(random_state = 42, n_jobs = -1)\n",
    ")\n",
    "\n",
    "model_xgb.fit(X_train, y_train)"
   ]
  },
  {
   "cell_type": "code",
   "execution_count": null,
   "id": "602ca143-4cbc-4147-af41-73f07e7c7df8",
   "metadata": {},
   "outputs": [],
   "source": [
    "# XGBoost model performance\n",
    "print('training accuracy ',model_xgb.score(X_train,y_train))\n",
    "print('testing accuracy ', model_xgb.score(X_val,y_val))\n",
    "print(classification_report(y_val, model_xgb.predict(X_val)))"
   ]
  },
  {
   "cell_type": "code",
   "execution_count": null,
   "id": "0dedf884-eebd-4bb6-a4b3-ce95d829c7b0",
   "metadata": {},
   "outputs": [],
   "source": [
    "# tuning hyperparameters for XGBoost model\n",
    "clf = make_pipeline(OrdinalEncoder(),\n",
    "                   SimpleImputer(),\n",
    "                   XGBClassifier(random_state=42, n_jobs = -1))\n",
    "\n",
    "param_grid = {'simpleimputer__strategy':['median','mean'],\n",
    "             'xgbclassifier__max_depth':range(5,20,2), \n",
    "             'xgbclassifier__n_estimators':range(50,150,50),\n",
    "             'xgbclassifier__learning_rate':[0.01, 0.1, 0.2, 0.4, 1]\n",
    "              } \n",
    "\n",
    "model_xgbrs = RandomizedSearchCV(clf, \n",
    "                               param_distributions = param_grid,\n",
    "                               n_iter = 25,\n",
    "                               cv = 5,\n",
    "                               n_jobs = -1,\n",
    "                               verbose = 10)\n",
    "model_xgbrs.fit(X_train,y_train)"
   ]
  },
  {
   "cell_type": "code",
   "execution_count": null,
   "id": "88caea77-8e7b-434f-819c-419aeaf739bd",
   "metadata": {},
   "outputs": [],
   "source": [
    "# retrieve best hyperparamters \n",
    "best_score = model_xgbrs.best_score_\n",
    "best_params = model_xgbrs.best_params_\n",
    "print(best_score, best_params)\n",
    "# feed back into model using cell from above"
   ]
  },
  {
   "cell_type": "code",
   "execution_count": 95,
   "id": "3ad2ff34-fc61-4ed6-bf1c-8edc9d47680b",
   "metadata": {},
   "outputs": [
    {
     "data": {
      "text/plain": [
       "Text(0.5, 0, 'Chi Values')"
      ]
     },
     "execution_count": 95,
     "metadata": {},
     "output_type": "execute_result"
    },
    {
     "data": {
      "image/png": "[encoded data removed]",
      "text/plain": [
       "<Figure size 432x288 with 1 Axes>"
      ]
     },
     "metadata": {
      "needs_background": "light"
     },
     "output_type": "display_data"
    }
   ],
   "source": [
    "# going back to feature selection\n",
    "# calculate chi-square values of feature variables \n",
    "from scipy.stats import chi2_contingency\n",
    "list = []\n",
    "for col in X_train.columns:\n",
    "    list.append(chi2_contingency(pd.crosstab(X_train[col], y_train))[0])\n",
    "\n",
    "chiValue = pd.Series(list, index=X_train.columns).sort_values()\n",
    "chiValue.plot(kind='barh',color='xkcd:lavender')\n",
    "plt.xlabel('Chi Values')"
   ]
  },
  {
   "cell_type": "code",
   "execution_count": 91,
   "id": "3ef22e79-8214-4948-83d6-f312861bacc8",
   "metadata": {},
   "outputs": [
    {
     "name": "stdout",
     "output_type": "stream",
     "text": [
      "None\n"
     ]
    }
   ],
   "source": [
    "# drop feature variables with three lowest chi-square values: 'city_development_index','gender', and 'user_depth'\n",
    "df = pd.read_csv('Ad_click_prediction_train.csv')\n",
    "df.set_index('session_id', inplace=True)\n",
    "df.drop(columns=['DateTime','user_id','webpage_id','campaign_id','city_development_index','gender','user_depth'],inplace=True)\n",
    "df.info()\n",
    "# rerun all other preprocessing cells from above and model again"
   ]
  }
 ],
 "metadata": {
  "kernelspec": {
   "display_name": "Python 3",
   "language": "python",
   "name": "python3"
  },
  "language_info": {
   "codemirror_mode": {
    "name": "ipython",
    "version": 3
   },
   "file_extension": ".py",
   "mimetype": "text/x-python",
   "name": "python",
   "nbconvert_exporter": "python",
   "pygments_lexer": "ipython3",
   "version": "3.8.8"
  }
 },
 "nbformat": 4,
 "nbformat_minor": 5
}
